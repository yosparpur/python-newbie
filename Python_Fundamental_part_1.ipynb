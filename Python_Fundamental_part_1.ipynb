{
  "nbformat": 4,
  "nbformat_minor": 0,
  "metadata": {
    "colab": {
      "provenance": [],
      "include_colab_link": true
    },
    "kernelspec": {
      "name": "python3",
      "display_name": "Python 3"
    },
    "language_info": {
      "name": "python"
    }
  },
  "cells": [
    {
      "cell_type": "markdown",
      "metadata": {
        "id": "view-in-github",
        "colab_type": "text"
      },
      "source": [
        "<a href=\"https://colab.research.google.com/github/yosparpur/python-newbie/blob/main/Python_Fundamental_part_1.ipynb\" target=\"_parent\"><img src=\"https://colab.research.google.com/assets/colab-badge.svg\" alt=\"Open In Colab\"/></a>"
      ]
    },
    {
      "cell_type": "code",
      "source": [],
      "metadata": {
        "id": "mOzvGopqQJ8_"
      },
      "execution_count": null,
      "outputs": []
    },
    {
      "cell_type": "markdown",
      "source": [
        "# Common Data Structure"
      ],
      "metadata": {
        "id": "6FkIx88TcBmf"
      }
    },
    {
      "cell_type": "code",
      "execution_count": null,
      "metadata": {
        "colab": {
          "base_uri": "https://localhost:8080/"
        },
        "id": "Lx0kEFO7b9lo",
        "outputId": "344bb4c5-2ecc-4c0e-8365-14ec95da125b"
      },
      "outputs": [
        {
          "output_type": "stream",
          "name": "stdout",
          "text": [
            "[]\n",
            "[1, 2, 3, 'example', 3.14]\n"
          ]
        }
      ],
      "source": [
        "# Lists\n",
        "\n",
        "my_list = [] #create empty list\n",
        "print(my_list)\n",
        "my_list = [1, 2, 3, 'example', 3.14] #creating list with data\n",
        "print(my_list)"
      ]
    },
    {
      "cell_type": "code",
      "source": [
        "# Dictionary\n",
        "my_dict = {'First': 'Python', 'Second': 'Java'}\n",
        "print(my_dict)\n",
        "my_dict['Second'] = 'C++' #changing element\n",
        "print(my_dict)\n",
        "my_dict['Third'] = 'Ruby' #adding key-value pair\n",
        "print(my_dict)"
      ],
      "metadata": {
        "colab": {
          "base_uri": "https://localhost:8080/"
        },
        "id": "sWHhP_Nicjqn",
        "outputId": "55e75e4e-87ba-4e38-d133-8892704adef6"
      },
      "execution_count": null,
      "outputs": [
        {
          "output_type": "stream",
          "name": "stdout",
          "text": [
            "{'First': 'Python', 'Second': 'Java'}\n",
            "{'First': 'Python', 'Second': 'C++'}\n",
            "{'First': 'Python', 'Second': 'C++', 'Third': 'Ruby'}\n"
          ]
        }
      ]
    },
    {
      "cell_type": "code",
      "source": [
        "# Tuple\n",
        "my_tuple = (1, 2, 3, 'myskill') #create tuple\n",
        "print(my_tuple)\n",
        "print(my_tuple[0])\n",
        "print(my_tuple[:])\n",
        "print(my_tuple[3][4])\n"
      ],
      "metadata": {
        "colab": {
          "base_uri": "https://localhost:8080/"
        },
        "id": "WRds9hqsc9-H",
        "outputId": "e8efeba8-fc99-446d-9b59-d98356f8e92d"
      },
      "execution_count": null,
      "outputs": [
        {
          "output_type": "stream",
          "name": "stdout",
          "text": [
            "(1, 2, 3, 'myskill')\n",
            "1\n",
            "(1, 2, 3, 'myskill')\n",
            "i\n"
          ]
        }
      ]
    },
    {
      "cell_type": "code",
      "source": [
        "# Sets\n",
        "my_set = {1, 2, 3, 4, 5, 5, 5} #create set\n",
        "print(my_set)\n",
        "my_set.add(4) #add element to set\n",
        "print(my_set)\n"
      ],
      "metadata": {
        "id": "oLCB1mvcdYem",
        "colab": {
          "base_uri": "https://localhost:8080/"
        },
        "outputId": "27d111e0-6f8d-4810-f2cf-e56fd0ec092f"
      },
      "execution_count": null,
      "outputs": [
        {
          "output_type": "stream",
          "name": "stdout",
          "text": [
            "{1, 2, 3, 4, 5}\n",
            "{1, 2, 3, 4, 5}\n"
          ]
        }
      ]
    },
    {
      "cell_type": "code",
      "source": [
        "my_set = {1, 2, 3, 4}\n",
        "my_set_2 = {3, 4, 5, 6}\n",
        "print(my_set.union(my_set_2), '----------', my_set | my_set_2)\n",
        "print(my_set.intersection(my_set_2), '----------', my_set & my_set_2)\n",
        "print(my_set.difference(my_set_2), '----------', my_set - my_set_2)\n",
        "print(my_set.symmetric_difference(my_set_2), '----------', my_set ^ my_set_2)\n",
        "my_set.clear()\n",
        "print(my_set)\n"
      ],
      "metadata": {
        "colab": {
          "base_uri": "https://localhost:8080/"
        },
        "id": "QG9GEVeKd7pT",
        "outputId": "d3223e7e-5b62-4aad-966a-bed28c42653a"
      },
      "execution_count": null,
      "outputs": [
        {
          "output_type": "stream",
          "name": "stdout",
          "text": [
            "{1, 2, 3, 4, 5, 6} ---------- {1, 2, 3, 4, 5, 6}\n",
            "{3, 4} ---------- {3, 4}\n",
            "{1, 2} ---------- {1, 2}\n",
            "{1, 2, 5, 6} ---------- {1, 2, 5, 6}\n",
            "set()\n"
          ]
        }
      ]
    },
    {
      "cell_type": "markdown",
      "source": [
        "# Conditional Statement"
      ],
      "metadata": {
        "id": "sR7UNjM0eOhu"
      }
    },
    {
      "cell_type": "code",
      "source": [
        "# IF Statement\n",
        "num = 5\n",
        "if num > 0:\n",
        "    print(num, \"is a positive number.\")\n",
        "print(\"This statement is true.\")"
      ],
      "metadata": {
        "colab": {
          "base_uri": "https://localhost:8080/"
        },
        "id": "r3UO38JOd7-8",
        "outputId": "9d42f993-7692-4c65-f461-299e34c6f4bf"
      },
      "execution_count": null,
      "outputs": [
        {
          "output_type": "stream",
          "name": "stdout",
          "text": [
            "5 is a positive number.\n",
            "This statement is true.\n"
          ]
        }
      ]
    },
    {
      "cell_type": "code",
      "source": [
        "# IF Else Statement\n",
        "num = 5\n",
        "if num >= 0:\n",
        "    print(\"Positive or Zero\")\n",
        "else:\n",
        "     print(\"Negative number\")"
      ],
      "metadata": {
        "colab": {
          "base_uri": "https://localhost:8080/"
        },
        "id": "QB1JSi4WezHH",
        "outputId": "186db9b8-6929-42f1-cd00-7a4a338480dd"
      },
      "execution_count": null,
      "outputs": [
        {
          "output_type": "stream",
          "name": "stdout",
          "text": [
            "Positive or Zero\n"
          ]
        }
      ]
    },
    {
      "cell_type": "code",
      "source": [
        "# IF, Elif, Else Statement\n",
        "num = 0\n",
        "if num > 0:\n",
        "    print(\"Positive number\")\n",
        "elif num == 0:\n",
        "    print(\"Zero\")\n",
        "else:\n",
        "    print(\"Negative number\")"
      ],
      "metadata": {
        "colab": {
          "base_uri": "https://localhost:8080/"
        },
        "id": "Pb3vXO87e5Pj",
        "outputId": "f6c74025-1bb2-4aaa-fb33-440d0e787ad7"
      },
      "execution_count": null,
      "outputs": [
        {
          "output_type": "stream",
          "name": "stdout",
          "text": [
            "Zero\n"
          ]
        }
      ]
    },
    {
      "cell_type": "code",
      "source": [
        "# IF nested\n",
        "num = 8\n",
        "if num >= 0:\n",
        "    if num == 0:\n",
        "        print(\"zero\")\n",
        "    else:\n",
        "        print(\"Positive number\")\n",
        "else:\n",
        "    print(\"Negative number\")"
      ],
      "metadata": {
        "colab": {
          "base_uri": "https://localhost:8080/"
        },
        "id": "BawBG_BIfBaY",
        "outputId": "19d228e2-7209-4dd5-88d0-f6f520749582"
      },
      "execution_count": null,
      "outputs": [
        {
          "output_type": "stream",
          "name": "stdout",
          "text": [
            "Positive number\n"
          ]
        }
      ]
    },
    {
      "cell_type": "markdown",
      "source": [
        "# Loops"
      ],
      "metadata": {
        "id": "Ji_S7jQrfUX-"
      }
    },
    {
      "cell_type": "code",
      "source": [
        "# While Loop\n",
        "num = 1\n",
        "odd_nums = []\n",
        "while num:\n",
        "    if num % 2 != 0:\n",
        "        odd_nums.append(num)\n",
        "    if num >=20:\n",
        "        break\n",
        "    num += 1\n",
        "print(\"Odd numbers: \", odd_nums)"
      ],
      "metadata": {
        "colab": {
          "base_uri": "https://localhost:8080/"
        },
        "id": "AekaXj1LfGQA",
        "outputId": "8bb74e3c-9e1b-4525-ecb4-5787c7dcfc2a"
      },
      "execution_count": null,
      "outputs": [
        {
          "output_type": "stream",
          "name": "stdout",
          "text": [
            "Odd numbers:  [1, 3, 5, 7, 9, 11, 13, 15, 17, 19]\n"
          ]
        }
      ]
    },
    {
      "cell_type": "code",
      "source": [
        "# For Loop\n",
        "list = [1, 2, 3, 4, 5]\n",
        "for num in list:\n",
        "    print(num)"
      ],
      "metadata": {
        "colab": {
          "base_uri": "https://localhost:8080/"
        },
        "id": "cnuqb4-BfXMT",
        "outputId": "de33a9b0-13ec-4689-a9fc-bb47d7869e36"
      },
      "execution_count": null,
      "outputs": [
        {
          "output_type": "stream",
          "name": "stdout",
          "text": [
            "1\n",
            "2\n",
            "3\n",
            "4\n",
            "5\n"
          ]
        }
      ]
    },
    {
      "cell_type": "markdown",
      "source": [
        "# Function"
      ],
      "metadata": {
        "id": "u5L9Dm2CfvkA"
      }
    },
    {
      "cell_type": "code",
      "source": [
        "# Function with Return\n",
        "def pow(a):\n",
        "  return a**2\n",
        "\n",
        "print(pow(2))\n",
        "power = pow(2)\n",
        "print(power)"
      ],
      "metadata": {
        "colab": {
          "base_uri": "https://localhost:8080/"
        },
        "id": "Ocye-dt0ft3-",
        "outputId": "defc40a6-2648-4a7b-a844-e3ea5c004735"
      },
      "execution_count": null,
      "outputs": [
        {
          "output_type": "stream",
          "name": "stdout",
          "text": [
            "4\n",
            "4\n"
          ]
        }
      ]
    },
    {
      "cell_type": "code",
      "source": [
        "def pow(a):\n",
        "  print(a**2)\n",
        "\n",
        "pow(2)"
      ],
      "metadata": {
        "colab": {
          "base_uri": "https://localhost:8080/"
        },
        "id": "2ySEDgvfr3fd",
        "outputId": "f14a7af2-55c8-40b7-872b-e00523aee8c0"
      },
      "execution_count": null,
      "outputs": [
        {
          "output_type": "stream",
          "name": "stdout",
          "text": [
            "4\n"
          ]
        }
      ]
    },
    {
      "cell_type": "code",
      "source": [],
      "metadata": {
        "id": "yqHMkRVEwEzR"
      },
      "execution_count": null,
      "outputs": []
    }
  ]
}