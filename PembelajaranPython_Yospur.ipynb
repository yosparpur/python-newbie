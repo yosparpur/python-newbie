{
  "nbformat": 4,
  "nbformat_minor": 0,
  "metadata": {
    "colab": {
      "provenance": [],
      "toc_visible": true,
      "include_colab_link": true
    },
    "kernelspec": {
      "name": "python3",
      "display_name": "Python 3"
    },
    "language_info": {
      "name": "python"
    }
  },
  "cells": [
    {
      "cell_type": "markdown",
      "metadata": {
        "id": "view-in-github",
        "colab_type": "text"
      },
      "source": [
        "<a href=\"https://colab.research.google.com/github/yosparpur/python-newbie/blob/main/PembelajaranPython_Yospur.ipynb\" target=\"_parent\"><img src=\"https://colab.research.google.com/assets/colab-badge.svg\" alt=\"Open In Colab\"/></a>"
      ]
    },
    {
      "cell_type": "markdown",
      "source": [
        "# **Pengenalan**"
      ],
      "metadata": {
        "id": "HrVIHubOMVxv"
      }
    },
    {
      "cell_type": "markdown",
      "source": [
        "Python adalah bahasa pemrograman yang mudah dibaca dan dimengerti. Dikenal karena tidak memerlukan titik koma (;) di akhir baris kode, dan memiliki penanganan kesalahan yang baik. Dirilis pertama kali pada tahun 1991 oleh Guido van Rossum. Python bisa digunakan di berbagai bidang, seperti:\n",
        "*   Website (server-side)\n",
        "*   Analisis data\n",
        "*   Pembelajaran mesin (machine learning)\n",
        "\n"
      ],
      "metadata": {
        "id": "lZzoh5vTNIKd"
      }
    },
    {
      "cell_type": "markdown",
      "source": [
        "Mengeluarkan Kata Print\n"
      ],
      "metadata": {
        "id": "Z7dNh-eyMI9J"
      }
    },
    {
      "cell_type": "code",
      "execution_count": null,
      "metadata": {
        "colab": {
          "base_uri": "https://localhost:8080/"
        },
        "id": "xmpoAFx3K5qC",
        "outputId": "8915526b-06dd-4027-a325-67fb06c05479"
      },
      "outputs": [
        {
          "output_type": "stream",
          "name": "stdout",
          "text": [
            "Hello World!\n"
          ]
        }
      ],
      "source": [
        "print(\"Hello World!\")"
      ]
    },
    {
      "cell_type": "markdown",
      "source": [
        "**Versi Python**\n",
        "Python 3.11 adalah versi terbaru yang dirilis dengan peningkatan performa yang signifikan, yakni 10-60% lebih cepat dibandingkan versi sebelumnya (3.10). Beberapa fitur utama yang diperkenalkan dalam versi ini termasuk:\n",
        "\n",
        "*Peningkatan Kecepatan Eksekusi: Python 3.11 meningkatkan kecepatan interpretasi kode, yang memungkinkan aplikasi berjalan lebih cepat.\n",
        "*Peningkatan Penanganan Kesalahan: Pesan kesalahan kini lebih informatif dan jelas, memudahkan debugging.\n",
        "Fitur Asynchronous: Pembaruan pada fungsionalitas async membuat penulisan kode non-blocking lebih efisien.\n",
        "*Peningkatan Anotasi Tipe: Penyempurnaan sistem tipe untuk mendukung pengembangan yang lebih kuat dan lebih mudah dibaca.\n",
        "\n",
        "Secara keseluruhan, Python 3.11 menawarkan kinerja lebih cepat dan perbaikan stabilitas yang signifikan untuk pengembang.\n",
        "\n",
        "Untuk detail lebih lanjut, Anda dapat merujuk ke dokumentasi resmi Python 3.11.https://docs.python.org/release/3.11.2/whatsnew/3.11.html\n",
        "\n",
        "\n"
      ],
      "metadata": {
        "id": "UnOIE03hNnXu"
      }
    },
    {
      "cell_type": "markdown",
      "source": [
        "## **Variable dan Assignment**"
      ],
      "metadata": {
        "id": "tXIfuskho8nX"
      }
    },
    {
      "cell_type": "markdown",
      "source": [
        "### **Variable**"
      ],
      "metadata": {
        "id": "aIMF-XhxpHTD"
      }
    },
    {
      "cell_type": "markdown",
      "source": [
        "Definisi dari variabel merujuk kepada lokasi dalam komputer yang digunakan untuk menyimpan nilai dengan tipe data tertentu. Ketika menuliskan variabel, Anda telah memerintahkan komputer untuk mencari dan memesan ruang kosong dalam komputer yang nantinya akan diisi nilai atau data.\n",
        "\n",
        "Pembuatan variabel sangat erat kaitannya dengan proses assignment. Ketika Anda memesan ruang kosong di dalam komputer, tentu harusnya ruang kosong tersebut diisi oleh nilai dan bukan dikosongkan.\n",
        "\n",
        "Tujuan dari pembuatan variabel adalah menyimpan nilai yang nantinya dapat digunakan secara berulang. Sekarang, mari membahas assignment. Sebagaimana yang dijelaskan sebelumnya bahwa variabel sangat erat kaitannya dengan assignment"
      ],
      "metadata": {
        "id": "NzsDZ4Rro_nl"
      }
    },
    {
      "cell_type": "markdown",
      "source": [
        "### **Assignment**"
      ],
      "metadata": {
        "id": "MbVY6T5Ur3NR"
      }
    },
    {
      "cell_type": "markdown",
      "source": [
        "Assignment merupakan proses pemberian atau penetapan nilai pada sebuah variabel. Dalam Python, proses melakukan assignment dapat mengikuti formula berikut."
      ],
      "metadata": {
        "id": "Iagt8FV3r93o"
      }
    },
    {
      "cell_type": "markdown",
      "source": [
        "![Cuplikan layar 2025-01-14 190348.png](data:image/png;base64,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)\n",
        "\n",
        "Catatan:\n",
        "\n",
        "Ruas kiri adalah variabel.\n",
        "Ruas kanan adalah ekspresi/nilai/variabel yang sudah jelas nilainya."
      ],
      "metadata": {
        "id": "GMCyOfT3sFDf"
      }
    },
    {
      "cell_type": "code",
      "source": [
        "greeting = 'Hello World!'   #  Ini adalah assignment\n",
        "print(greeting)\n"
      ],
      "metadata": {
        "colab": {
          "base_uri": "https://localhost:8080/"
        },
        "id": "Vtw9gnBYs7QY",
        "outputId": "66e8e930-9d0f-4a61-8b12-a550e4663d4b"
      },
      "execution_count": null,
      "outputs": [
        {
          "output_type": "stream",
          "name": "stdout",
          "text": [
            "Hello World!\n"
          ]
        }
      ]
    },
    {
      "cell_type": "markdown",
      "source": [
        "Contoh implemenatasinya"
      ],
      "metadata": {
        "id": "7rfAxtPnsLiQ"
      }
    },
    {
      "cell_type": "code",
      "source": [
        "greeting = 'Hello World!'   #  Ini adalah assignment\n",
        "print(greeting)\n",
        "\n",
        "\"\"\" Output: Hello World!\"\"\""
      ],
      "metadata": {
        "colab": {
          "base_uri": "https://localhost:8080/",
          "height": 53
        },
        "id": "XyeQ_0OB9okv",
        "outputId": "2a097d92-8788-4dbc-d9b1-9561cbca0e9c"
      },
      "execution_count": null,
      "outputs": [
        {
          "output_type": "stream",
          "name": "stdout",
          "text": [
            "Hello World!\n"
          ]
        },
        {
          "output_type": "execute_result",
          "data": {
            "text/plain": [
              "' Output: Hello World!'"
            ],
            "application/vnd.google.colaboratory.intrinsic+json": {
              "type": "string"
            }
          },
          "metadata": {},
          "execution_count": 1
        }
      ]
    },
    {
      "cell_type": "markdown",
      "source": [
        "Pada kodingan diatas  “Hello World” disimpan pada variabel “greeting”. Jadi, setelah proses assignment tersebut, variabel “greeting” memiliki nilai “Hello World!”."
      ],
      "metadata": {
        "id": "EUB1aHvQ-AUE"
      }
    },
    {
      "cell_type": "markdown",
      "source": [
        "**Latihan **"
      ],
      "metadata": {
        "id": "p5rEzvsKHuC0"
      }
    },
    {
      "cell_type": "code",
      "source": [
        "# TODO: Silakan buat kode Anda di bawah ini.\n",
        "greeting = \"Saya mulai belajar Python!\"\n",
        "# Untuk memastikan hasil sesuai yang diharapkan, kita dapat menggunakan print\n",
        "print(greeting)"
      ],
      "metadata": {
        "colab": {
          "base_uri": "https://localhost:8080/"
        },
        "id": "1xrKTYa3H5tB",
        "outputId": "599a5b55-8df0-45c5-8c17-763e0ecb1efc"
      },
      "execution_count": null,
      "outputs": [
        {
          "output_type": "stream",
          "name": "stdout",
          "text": [
            "Saya mulai belajar Python!\n"
          ]
        }
      ]
    },
    {
      "cell_type": "markdown",
      "source": [
        "## **Input Output Dan Komentar**"
      ],
      "metadata": {
        "id": "H6jAIrqB-JPd"
      }
    },
    {
      "cell_type": "markdown",
      "source": [
        "### **Input**"
      ],
      "metadata": {
        "id": "KP3fENMNAuhn"
      }
    },
    {
      "cell_type": "markdown",
      "source": [
        "Untuk memungkinkan pengguna memberikan masukan, Anda dapat menggunakan perintah input(). Berikut implementasinya menggunakan Python. Berikut contoh kodingan Input"
      ],
      "metadata": {
        "id": "o75cpsY9AGh8"
      }
    },
    {
      "cell_type": "code",
      "source": [
        "name = input('Masukan nama Anda: ')"
      ],
      "metadata": {
        "colab": {
          "base_uri": "https://localhost:8080/"
        },
        "id": "vOPEiIIKAc0O",
        "outputId": "811cf2d8-5814-4e9a-e589-323c1d44d07e"
      },
      "execution_count": null,
      "outputs": [
        {
          "name": "stdout",
          "output_type": "stream",
          "text": [
            "Masukan nama Anda: Kontol \n"
          ]
        }
      ]
    },
    {
      "cell_type": "markdown",
      "source": [
        "Jalankan kode tersebut menggunakan notebook atau IDE Anda. Ketika kode tersebut dijalankan, program akan meminta Anda sebagai pengguna untuk memasukkan nilai."
      ],
      "metadata": {
        "id": "n9DBmZswAUZv"
      }
    },
    {
      "cell_type": "markdown",
      "source": [],
      "metadata": {
        "id": "pu5mh8LeApyG"
      }
    },
    {
      "cell_type": "markdown",
      "source": [
        "### **Output**"
      ],
      "metadata": {
        "id": "y5c24it8A5VC"
      }
    },
    {
      "cell_type": "markdown",
      "source": [
        " Fungsi print() yang sebelumnya Anda gunakan adalah perintah untuk menampilkan output ke layar komputer Anda. Mari gabungkan fungsi input() dan output() berdasarkan contoh kode sebelumnya."
      ],
      "metadata": {
        "id": "ZhgJPHJ1A9dg"
      }
    },
    {
      "cell_type": "code",
      "source": [
        "print(name)"
      ],
      "metadata": {
        "colab": {
          "base_uri": "https://localhost:8080/"
        },
        "id": "il7_fZFxBDrG",
        "outputId": "1459b8bb-6d88-4f86-873e-d70be80f55ec"
      },
      "execution_count": null,
      "outputs": [
        {
          "output_type": "stream",
          "name": "stdout",
          "text": [
            "Kontol \n"
          ]
        }
      ]
    },
    {
      "cell_type": "markdown",
      "source": [
        "### **Komentar**"
      ],
      "metadata": {
        "id": "woP-BnImEAUy"
      }
    },
    {
      "cell_type": "markdown",
      "source": [
        "Komentar merupakan barisan teks yang akan diabaikan oleh Python ketika program tersebut dijalankan. Anda dapat menulis satu atau beberapa baris teks sebagai komentar dalam kode program."
      ],
      "metadata": {
        "id": "FBxo6oUmEH2l"
      }
    },
    {
      "cell_type": "markdown",
      "source": [
        "**Inline Comment**"
      ],
      "metadata": {
        "id": "jE5nMx1nFYrb"
      }
    },
    {
      "cell_type": "markdown",
      "source": [
        "Inline comment pada Python merupakan komentar yang biasanya diletakkan pada baris yang sama dengan kode atau satu baris sebelum kode. Penggunaan inline comment diperuntukkan untuk menjelaskan baris kode secara spesifik."
      ],
      "metadata": {
        "id": "Ksj6h0LwFeU7"
      }
    },
    {
      "cell_type": "code",
      "source": [
        "# Variabel ini menyimpan nama 'Perseus Evans'\n",
        "name = 'Perseus Evans'"
      ],
      "metadata": {
        "id": "sE0UoWFVFnJ_"
      },
      "execution_count": null,
      "outputs": []
    },
    {
      "cell_type": "markdown",
      "source": [
        "**Block Comment**"
      ],
      "metadata": {
        "id": "vIoYny6fFj1k"
      }
    },
    {
      "cell_type": "markdown",
      "source": [
        "Penggunaan block comment diawali dan diakhiri dengan tiga double quote (“””) atau tiga single quote (‘’’). Berikut adalah implementasi block comment menggunakan tiga double quote (“””)."
      ],
      "metadata": {
        "id": "6wrU-sqXFxHo"
      }
    },
    {
      "cell_type": "code",
      "source": [
        "\"\"\"\n",
        "Ini adalah Block Comment,\n",
        "Teks ini akan diabaikan oleh Python.\n",
        "\"\"\"\n",
        "print(\"Hello World!\")"
      ],
      "metadata": {
        "colab": {
          "base_uri": "https://localhost:8080/"
        },
        "id": "kxl_iEIfFx8n",
        "outputId": "659170ab-f1c5-454c-d158-bf65f433a54d"
      },
      "execution_count": null,
      "outputs": [
        {
          "output_type": "stream",
          "name": "stdout",
          "text": [
            "Hello World!\n"
          ]
        }
      ]
    },
    {
      "cell_type": "markdown",
      "source": [
        "Setelah menjalankan kode di atas, teks yang diapit oleh tiga double quote (“””) akan dianggap sebagai komentar sehingga akan diabaikan oleh komputer."
      ],
      "metadata": {
        "id": "rWXJcqwhF3Pl"
      }
    },
    {
      "cell_type": "markdown",
      "source": [
        "Selain itu, berikut adalah implementasi block comment menggunakan single quote (‘’’)."
      ],
      "metadata": {
        "id": "wbLMd8KPF7XV"
      }
    },
    {
      "cell_type": "code",
      "source": [
        "'''\n",
        "Ini adalah Block Comment,\n",
        "Teks ini akan diabaikan oleh Python.\n",
        "'''\n",
        "5\n",
        "print(\"Hello World!\")"
      ],
      "metadata": {
        "colab": {
          "base_uri": "https://localhost:8080/"
        },
        "id": "-UAbmoQrGARP",
        "outputId": "416225f6-69c7-4f2d-f8c9-e4e36a58f624"
      },
      "execution_count": null,
      "outputs": [
        {
          "output_type": "stream",
          "name": "stdout",
          "text": [
            "Hello World!\n"
          ]
        }
      ]
    },
    {
      "cell_type": "markdown",
      "source": [
        "# **Berinteraksi Dengan Data**"
      ],
      "metadata": {
        "id": "3fMCRYeoIKjp"
      }
    },
    {
      "cell_type": "markdown",
      "source": [
        "## **Abstraksi Data**"
      ],
      "metadata": {
        "id": "2gIC3m8uIVn8"
      }
    },
    {
      "cell_type": "markdown",
      "source": [
        "Abstraksi data merupakan kemampuan Anda untuk mengerti konteks dan merepresentasikannya menjadi bentuk lain sesuai dengan konteks masalahnya."
      ],
      "metadata": {
        "id": "FaXJwshEIbjs"
      }
    },
    {
      "cell_type": "markdown",
      "source": [
        "## **Data Typing**"
      ],
      "metadata": {
        "id": "s8yiVoHNItoi"
      }
    },
    {
      "cell_type": "markdown",
      "source": [
        "Umumnya, ini dilakukan oleh bahasa pemrograman lainnya, seperti C/C++. Contohnya berikut."
      ],
      "metadata": {
        "id": "Kzpz-iayKkhP"
      }
    },
    {
      "cell_type": "code",
      "source": [
        "int age;\n",
        "float salary;"
      ],
      "metadata": {
        "colab": {
          "base_uri": "https://localhost:8080/",
          "height": 106
        },
        "id": "3H-ccha-KlrT",
        "outputId": "9906f509-b6cb-4a80-ac58-7a62c47e7197"
      },
      "execution_count": null,
      "outputs": [
        {
          "output_type": "error",
          "ename": "SyntaxError",
          "evalue": "invalid syntax (<ipython-input-8-6a065b6caedc>, line 1)",
          "traceback": [
            "\u001b[0;36m  File \u001b[0;32m\"<ipython-input-8-6a065b6caedc>\"\u001b[0;36m, line \u001b[0;32m1\u001b[0m\n\u001b[0;31m    int age\u001b[0m\n\u001b[0m        ^\u001b[0m\n\u001b[0;31mSyntaxError\u001b[0m\u001b[0;31m:\u001b[0m invalid syntax\n"
          ]
        }
      ]
    },
    {
      "cell_type": "markdown",
      "source": [
        "Contoh Penggna C/ C++"
      ],
      "metadata": {
        "id": "mtS1m6dZK3E0"
      }
    },
    {
      "cell_type": "code",
      "source": [
        "int age = 17;\n",
        "float salary = 5000000;"
      ],
      "metadata": {
        "id": "ovvlBxvCK6mO"
      },
      "execution_count": null,
      "outputs": []
    },
    {
      "cell_type": "markdown",
      "source": [
        "Jika diubah ke dalam bahasa Python"
      ],
      "metadata": {
        "id": "4yP4DZ1IKnV7"
      }
    },
    {
      "cell_type": "code",
      "source": [
        "age = 17\n",
        "salary = 5000000.0\n",
        "print(type(age))\n",
        "print(type(salary))"
      ],
      "metadata": {
        "colab": {
          "base_uri": "https://localhost:8080/"
        },
        "id": "0Ru_6UYNLGgJ",
        "outputId": "bf60433a-b5e7-413e-88ef-f50649d72dd8"
      },
      "execution_count": null,
      "outputs": [
        {
          "output_type": "stream",
          "name": "stdout",
          "text": [
            "<class 'int'>\n",
            "<class 'float'>\n"
          ]
        }
      ]
    },
    {
      "cell_type": "markdown",
      "source": [
        "Python juga merupakan bahasa pemrograman yang menerapkan dynamic typing, yang berarti bahasa pemrograman yang hanya mengetahui tipe variabel saat program berjalan dan melakukan proses assignment."
      ],
      "metadata": {
        "id": "CTzS7YOcLMYD"
      }
    },
    {
      "cell_type": "code",
      "source": [
        "x = 6\n",
        "print(type(x))\n",
        "\n",
        "x = \"6\"\n",
        "print(type(x))"
      ],
      "metadata": {
        "colab": {
          "base_uri": "https://localhost:8080/"
        },
        "id": "Y-zZDjfbLW2F",
        "outputId": "3bd2a186-d048-4ec3-bd3c-e661006f802e"
      },
      "execution_count": null,
      "outputs": [
        {
          "output_type": "stream",
          "name": "stdout",
          "text": [
            "<class 'int'>\n",
            "<class 'str'>\n"
          ]
        }
      ]
    },
    {
      "cell_type": "markdown",
      "source": [
        "## **Tipe Data**"
      ],
      "metadata": {
        "id": "6L8a862ILebt"
      }
    },
    {
      "cell_type": "markdown",
      "source": [
        "### **Tipe Data Primitf**"
      ],
      "metadata": {
        "id": "ls0Iq9_tMFPj"
      }
    },
    {
      "cell_type": "markdown",
      "source": [
        "![image.png](data:image/png;base64,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)"
      ],
      "metadata": {
        "id": "jUKtxQTFLkbM"
      }
    },
    {
      "cell_type": "markdown",
      "source": [
        "Tipe data primitif pertama, yakni numbers adalah tipe data angka berupa bilangan bulat, riil, dan kompleks.\n",
        "\n",
        "Tipe data integer merupakan bilangan bulat positif atau negatif dan tidak memiliki angka desimal. Selanjutnya, tipe data float merupakan bilangan riil yang mewakili bilangan bulat dan angka desimal. Terakhir, tipe data complex yang merupakan representasi dari bilangan kompleks dalam matematika. Tipe data complex terdiri dari bilangan riil dan imajiner dengan bentuk “x +yj”, yaitu “x” adalah bilangan riil dan “y” adalah bilangan imajiner.\n",
        "\n",
        "Ciri dari bilangan numbers adalah Anda dapat mengoperasikan bilangan tersebut dengan operasi matematika sederhana, seperti pertambahan (+), pengurangan (-), perkalian (*), dan operasi matematika lainnya."
      ],
      "metadata": {
        "id": "AbKAFRQWMP1T"
      }
    },
    {
      "cell_type": "code",
      "source": [
        "x = 6\n",
        "print(type(x))\n",
        "x = 6.0\n",
        "print(type(x))\n",
        "x = 1+2j\n",
        "print(type(x))"
      ],
      "metadata": {
        "colab": {
          "base_uri": "https://localhost:8080/"
        },
        "id": "UoICp_yHMTn8",
        "outputId": "36bc35f0-e349-4eed-a419-e58df45bb338"
      },
      "execution_count": null,
      "outputs": [
        {
          "output_type": "stream",
          "name": "stdout",
          "text": [
            "<class 'int'>\n",
            "<class 'float'>\n",
            "<class 'complex'>\n"
          ]
        }
      ]
    },
    {
      "cell_type": "markdown",
      "source": [
        "Perlu diperhatikan bahwa tipe data numbers bersifat immutable yang artinya nilai di dalamnya tidak dapat diubah. Mari lihat contoh di bawah ini."
      ],
      "metadata": {
        "id": "yCVrviT2MRJY"
      }
    },
    {
      "cell_type": "code",
      "source": [
        "var = 10\n",
        "print(var)\n",
        "print(id(var))\n",
        "var = 11\n",
        "print(var)\n",
        "print(id(var))"
      ],
      "metadata": {
        "colab": {
          "base_uri": "https://localhost:8080/"
        },
        "id": "Zxeviu7SM3oQ",
        "outputId": "d18d6793-a5b4-41f3-db2a-a03b07e559e8"
      },
      "execution_count": null,
      "outputs": [
        {
          "output_type": "stream",
          "name": "stdout",
          "text": [
            "10\n",
            "10751144\n",
            "11\n",
            "10751176\n"
          ]
        }
      ]
    },
    {
      "cell_type": "markdown",
      "source": [
        "### **Boolean**"
      ],
      "metadata": {
        "id": "K4goqIclM0RK"
      }
    },
    {
      "cell_type": "markdown",
      "source": [
        "![image.png](data:image/png;base64,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)"
      ],
      "metadata": {
        "id": "zfpohqnCOFRp"
      }
    },
    {
      "cell_type": "markdown",
      "source": [
        "Tipe data primitif kedua adalah boolean, yakni tipe data yang hanya bernilai TRUE atau FALSE. Tipe data ini merepresentasikan nilai kebenaran (truth values). Sebenarnya, setiap variabel yang memiliki nilai bisa dievaluasi dan menghasilkan nilai true. Hanya ada beberapa nilai yang akan dianggap bernilai false sebagai berikut."
      ],
      "metadata": {
        "id": "xMpqGW5lOLCU"
      }
    },
    {
      "cell_type": "markdown",
      "source": [
        "1.Nilai yang sudah didefinisikan bernilai salah: None dan False.\n",
        "2.Angka nol dari semua tipe numerik: 0, 0.0, 0j, Decimal(0), Fraction(0,1).\n",
        "3.Urutan (sequence) dan koleksi (collection) yang kosong: “”, (), {}, set(), range(0)."
      ],
      "metadata": {
        "id": "5szuPLQPOVpz"
      }
    },
    {
      "cell_type": "code",
      "source": [
        "x = True\n",
        "print(type(x))\n",
        "x = False\n",
        "print(type(x))\n",
        "\"\"\"\n",
        "Output:\n",
        "<class 'bool'>\n",
        "<class 'bool'>\n",
        "\"\"\""
      ],
      "metadata": {
        "colab": {
          "base_uri": "https://localhost:8080/",
          "height": 70
        },
        "id": "OCsCOCoEx-jm",
        "outputId": "2853acf1-83a4-4001-d15b-0be24c6e10cd"
      },
      "execution_count": 1,
      "outputs": [
        {
          "output_type": "stream",
          "name": "stdout",
          "text": [
            "<class 'bool'>\n",
            "<class 'bool'>\n"
          ]
        },
        {
          "output_type": "execute_result",
          "data": {
            "text/plain": [
              "\"\\nOutput:\\n<class 'bool'>\\n<class 'bool'>\\n\""
            ],
            "application/vnd.google.colaboratory.intrinsic+json": {
              "type": "string"
            }
          },
          "metadata": {},
          "execution_count": 1
        }
      ]
    },
    {
      "cell_type": "markdown",
      "source": [
        "### **String**\n",
        "String merupakan karakter yang berurutan. Ketika Anda membuat variabel bernilai string tentu diawali dengan single quote (‘’) atau double quote (“”). Jalankan kode di bawah ini untuk mengetahui contoh tipe data string."
      ],
      "metadata": {
        "id": "GbDI7jc_Ch7q"
      }
    },
    {
      "cell_type": "code",
      "source": [
        "x = 'Dicoding'\n",
        "print(type(x))\n",
        "\"\"\"\n",
        "Output:\n",
        "<class 'str'>\n",
        "\"\"\""
      ],
      "metadata": {
        "colab": {
          "base_uri": "https://localhost:8080/",
          "height": 53
        },
        "id": "WIguPeF2yemT",
        "outputId": "62fdc758-c252-4219-d924-46cbf9b2cdf4"
      },
      "execution_count": 2,
      "outputs": [
        {
          "output_type": "stream",
          "name": "stdout",
          "text": [
            "<class 'str'>\n"
          ]
        },
        {
          "output_type": "execute_result",
          "data": {
            "text/plain": [
              "\"\\nOutput: \\n<class 'str'>\\n\""
            ],
            "application/vnd.google.colaboratory.intrinsic+json": {
              "type": "string"
            }
          },
          "metadata": {},
          "execution_count": 2
        }
      ]
    },
    {
      "cell_type": "markdown",
      "source": [
        "Variabel x yang menyimpan teks “Dicoding” adalah variabel dengan data bertipe string. Sederhananya, teks “Dicoding” tersebut adalah string."
      ],
      "metadata": {
        "id": "AJWrjbhhylnI"
      }
    },
    {
      "cell_type": "markdown",
      "source": [
        "Beberapa fakta menarik lainnya dari string Python adalah berikut."
      ],
      "metadata": {
        "id": "q__xV3E9yq51"
      }
    },
    {
      "cell_type": "markdown",
      "source": [
        "1.Anda dapat menggunakan tiga single quote atau double quote untuk menyimpan string yang lebih dari satu baris (multi-line)."
      ],
      "metadata": {
        "id": "uD58PcyjyvTE"
      }
    },
    {
      "cell_type": "code",
      "source": [
        "multi_line = \"\"\"Halo!\n",
        "Kapan terakhir kali kita bertemu?\n",
        "Kita bertemu hari Jum’at yang lalu.\"\"\"\n",
        "\n",
        "print(multi_line)\n"
      ],
      "metadata": {
        "colab": {
          "base_uri": "https://localhost:8080/"
        },
        "id": "eiQ8RC_Cy3AU",
        "outputId": "c30f9b6e-b903-400b-ad82-e43a6a846a5f"
      },
      "execution_count": 4,
      "outputs": [
        {
          "output_type": "stream",
          "name": "stdout",
          "text": [
            "Halo!\n",
            "Kapan terakhir kali kita bertemu?\n",
            "Kita bertemu hari Jum’at yang lalu.\n"
          ]
        }
      ]
    },
    {
      "cell_type": "markdown",
      "source": [
        "2.String merupakan urutan karakter yang setiap karakternya memiliki indeks. Anda dapat mengakses setiap karakter dari string (substring) dengan menggunakan metode indexing. Perlu diingat bahwa indeks selalu dimulai dari 0."
      ],
      "metadata": {
        "id": "nqP-lA8s0tBQ"
      }
    },
    {
      "cell_type": "markdown",
      "source": [],
      "metadata": {
        "id": "PdLWWtah0zA5"
      }
    }
  ]
}